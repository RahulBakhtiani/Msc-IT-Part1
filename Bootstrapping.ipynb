{
  "nbformat": 4,
  "nbformat_minor": 0,
  "metadata": {
    "colab": {
      "name": "Bootstrapping.ipynb",
      "provenance": [],
      "authorship_tag": "ABX9TyPd03zhF4Kr9EMleUs6Foro",
      "include_colab_link": true
    },
    "kernelspec": {
      "name": "python3",
      "display_name": "Python 3"
    }
  },
  "cells": [
    {
      "cell_type": "markdown",
      "metadata": {
        "id": "view-in-github",
        "colab_type": "text"
      },
      "source": [
        "<a href=\"https://colab.research.google.com/github/RahulBakhtiani/Msc-IT-Part1/blob/main/Bootstrapping.ipynb\" target=\"_parent\"><img src=\"https://colab.research.google.com/assets/colab-badge.svg\" alt=\"Open In Colab\"/></a>"
      ]
    },
    {
      "cell_type": "code",
      "metadata": {
        "id": "BqARkueubXD5",
        "colab": {
          "base_uri": "https://localhost:8080/"
        },
        "outputId": "9d18961b-418b-42ed-e49c-4d31d9a09e68"
      },
      "source": [
        "import numpy as np\r\n",
        "import random\r\n",
        " \r\n",
        "x = np.random.normal(loc= 300.0, size=1000)\r\n",
        "print(np.mean(x))\r\n",
        " \r\n",
        "sample_mean = []\r\n",
        "for i in range(50):\r\n",
        "  y = random.sample(x.tolist(), 4)\r\n",
        "  avg = np.mean(y)\r\n",
        "  sample_mean.append(avg)\r\n",
        " \r\n",
        "print(np.mean(sample_mean))"
      ],
      "execution_count": null,
      "outputs": [
        {
          "output_type": "stream",
          "text": [
            "300.03143036061476\n",
            "299.91668754950246\n"
          ],
          "name": "stdout"
        }
      ]
    }
  ]
}